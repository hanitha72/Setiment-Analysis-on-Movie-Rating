{
 "cells": [
  {
   "cell_type": "markdown",
   "metadata": {},
   "source": [
    "# Setiment analysis on film__Lion King movie reviews"
   ]
  },
  {
   "cell_type": "markdown",
   "metadata": {},
   "source": [
    "_This project about sentiment analysis on online reviews of film Lion King from rotten tomottes site_"
   ]
  },
  {
   "cell_type": "markdown",
   "metadata": {},
   "source": [
    "__Problem Statement__\n",
    "- Online reviews are important because they have become a reference point for buyers\n",
    "across the globe and because so many people trust them when making purchase\n",
    "decisions For the audience and booking websites, analysing reviews is significant in\n",
    "understanding reviewer opinion about the film. In movie booking websites, 90% of\n",
    "people first check out online reviews before purchasing tickets.\n",
    "For the production house, analysing negative reviews can be useful for damage control"
   ]
  },
  {
   "cell_type": "markdown",
   "metadata": {},
   "source": [
    "_Tasks in this script_\n",
    "- Getting 3000 reviews from rotten tomatoes site as per requirement-"
   ]
  },
  {
   "attachments": {
    "image.png": {
     "image/png": "[encoded data removed]"
    }
   },
   "cell_type": "markdown",
   "metadata": {},
   "source": [
    "![image.png](attachment:image.png)"
   ]
  },
  {
   "cell_type": "markdown",
   "metadata": {},
   "source": [
    "### Importing required libraries"
   ]
  },
  {
   "cell_type": "code",
   "execution_count": 3,
   "metadata": {},
   "outputs": [],
   "source": [
    "#!pip install requests"
   ]
  },
  {
   "cell_type": "code",
   "execution_count": 4,
   "metadata": {},
   "outputs": [],
   "source": [
    "import numpy as np\n",
    "import pandas as pd\n",
    "import requests\n",
    "import time\n"
   ]
  },
  {
   "cell_type": "markdown",
   "metadata": {},
   "source": [
    "# Fetching data from rotten tomato site"
   ]
  },
  {
   "cell_type": "code",
   "execution_count": 5,
   "metadata": {},
   "outputs": [],
   "source": [
    "headers = {\n",
    "'Referer': 'https://www.rottentomatoes.com/m/the_lion_king_2019/reviews?type=user',\n",
    "'User-Agent': 'Mozilla/5.0 (Windows NT 10.0; Win64; x64) AppleWebKit/537.36 (KHTML, like Gecko) Chrome/74.0.3729.108 Safari/537.36',\n",
    "'X-Requested-With': 'XMLHttpRequest',\n",
    "}"
   ]
  },
  {
   "cell_type": "code",
   "execution_count": 6,
   "metadata": {},
   "outputs": [],
   "source": [
    "payload = {\n",
    "'direction': 'next',\n",
    "'endCursor': '',\n",
    "'startCursor': '',\n",
    "}"
   ]
  },
  {
   "cell_type": "code",
   "execution_count": 7,
   "metadata": {},
   "outputs": [],
   "source": [
    "s = requests.Session()"
   ]
  },
  {
   "cell_type": "code",
   "execution_count": 8,
   "metadata": {},
   "outputs": [],
   "source": [
    "url = 'https://www.rottentomatoes.com/napi/movie/9057c2cf-7cab-317f-876f-e50b245ca76e/reviews/user'"
   ]
  },
  {
   "cell_type": "markdown",
   "metadata": {},
   "source": [
    "###  Getting single page review"
   ]
  },
  {
   "cell_type": "code",
   "execution_count": 9,
   "metadata": {},
   "outputs": [],
   "source": [
    "rawdata = s.get(url, headers=headers, params=payload) # GET Call\n",
    "jsonData = rawdata.json()"
   ]
  },
  {
   "cell_type": "code",
   "execution_count": 10,
   "metadata": {},
   "outputs": [
    {
     "data": {
      "text/plain": [
       "dict_keys(['pageInfo', 'reviews'])"
      ]
     },
     "execution_count": 10,
     "metadata": {},
     "output_type": "execute_result"
    }
   ],
   "source": [
    "jsonData.keys()"
   ]
  },
  {
   "cell_type": "code",
   "execution_count": 11,
   "metadata": {},
   "outputs": [],
   "source": [
    "RottenTomato = {'UsedID':[], 'UserName':[], 'Review':[], 'Rating':[], 'Date':[]}\n",
    "jsonReviews = jsonData['reviews']\n",
    "for i in jsonReviews:\n",
    "    RottenTomato['UsedID'].append(i['user']['userId'])\n",
    "    RottenTomato['UserName'].append(i['user']['displayName'])\n",
    "    RottenTomato['Review'].append(i['review'])\n",
    "    RottenTomato['Rating'].append(i['score'])\n",
    "    RottenTomato['Date'].append(i['createDate'])"
   ]
  },
  {
   "cell_type": "code",
   "execution_count": 12,
   "metadata": {},
   "outputs": [
    {
     "data": {
      "text/plain": [
       "dict"
      ]
     },
     "execution_count": 12,
     "metadata": {},
     "output_type": "execute_result"
    }
   ],
   "source": [
    "type(RottenTomato)"
   ]
  },
  {
   "cell_type": "code",
   "execution_count": 13,
   "metadata": {},
   "outputs": [
    {
     "name": "stdout",
     "output_type": "stream",
     "text": [
      "['4ac6d27e-eee2-45ee-b7d1-8beda3635e9c', 'a147a39f-ee2e-408e-ae07-874e93f0d225', '978119067', '978217415', '3EE3713A-E261-4562-9A2C-C6316FF768F5', '6ba6303a-0f50-406a-9384-44c875a66be3', '978208872', 'aa7fdcc2-db5b-455a-8ee8-80f7d80ffcd9', 'd7077647-7e81-4f6a-bf6c-c9617d60dedb', 'd47c39d5-19ce-40a8-96cc-761b45fa3120'] \n",
      "\n",
      "['Kathleen', 'kimberly d', 'Doug G', 'Diogo O', 'V0hayga', 'Ashley B', 'Edson G', 'Barbara S', 'DJO', 'PATRICIA J'] \n",
      "\n",
      "[\"Good for all ages.  Good lessons, good story, great graphics.  I'd see it again.\", \"I like that it followed the animation movie pretty close & it's just an overall terrific movie no matter which version you watch.\", 'Great movie..feeling the nostalgia for sure..left out a few parts from the otiginal but overall great feeling for this one. I would recommend this to anyone.', 'Infelizmente no filme acaba com o brilho da infância... O primeiro, o desenho era encantador fazia sonhar .\\nEste parece mais um filme do tim burro , não tem encanto. Parece que estou vendo animal planet paródia.', 'great for those who have never seek the original.  not so much for those of us who have.', \"I wasn't sure if this would be that great after reading some of the reviews, but I went in with an open mind, and my child and I LOVED it so much! It was like the original movie, and I really felt the different emotions. I am so happy I got to see this movie, and I can't wait to own it on DVD.\", \"Just watch the original. This movie just doesn't feel as magical as the first one.\", 'very well done and entertaining\\nreally enjoyed it', 'The animation was spectacular', 'I liked everything! Super great movie!'] \n",
      "\n",
      "[5, 5, 4.5, 2, 3, 5, 2, 4, 4, 5] \n",
      "\n",
      "['2019-08-30T03:13:36.138Z', '2019-08-30T02:17:18.670Z', '2019-08-30T01:53:24.594Z', '2019-08-30T01:44:34.141Z', '2019-08-30T01:37:31.448Z', '2019-08-30T01:08:33.118Z', '2019-08-30T00:22:19.448Z', '2019-08-29T23:58:21.800Z', '2019-08-29T23:22:36.548Z', '2019-08-29T23:19:33.081Z'] \n",
      "\n"
     ]
    }
   ],
   "source": [
    "for i in RottenTomato:\n",
    "    print(RottenTomato[i],\"\\n\")\n",
    "moviewreview_df=pd.DataFrame(RottenTomato, columns=['UsedID', 'UserName', \"Review\", \"Rating\", \"Date\"])\n"
   ]
  },
  {
   "cell_type": "code",
   "execution_count": 14,
   "metadata": {},
   "outputs": [
    {
     "data": {
      "text/html": [
       "<div>\n",
       "<style scoped>\n",
       "    .dataframe tbody tr th:only-of-type {\n",
       "        vertical-align: middle;\n",
       "    }\n",
       "\n",
       "    .dataframe tbody tr th {\n",
       "        vertical-align: top;\n",
       "    }\n",
       "\n",
       "    .dataframe thead th {\n",
       "        text-align: right;\n",
       "    }\n",
       "</style>\n",
       "<table border=\"1\" class=\"dataframe\">\n",
       "  <thead>\n",
       "    <tr style=\"text-align: right;\">\n",
       "      <th></th>\n",
       "      <th>UsedID</th>\n",
       "      <th>UserName</th>\n",
       "      <th>Review</th>\n",
       "      <th>Rating</th>\n",
       "      <th>Date</th>\n",
       "    </tr>\n",
       "  </thead>\n",
       "  <tbody>\n",
       "    <tr>\n",
       "      <th>0</th>\n",
       "      <td>4ac6d27e-eee2-45ee-b7d1-8beda3635e9c</td>\n",
       "      <td>Kathleen</td>\n",
       "      <td>Good for all ages.  Good lessons, good story, ...</td>\n",
       "      <td>5.0</td>\n",
       "      <td>2019-08-30T03:13:36.138Z</td>\n",
       "    </tr>\n",
       "    <tr>\n",
       "      <th>1</th>\n",
       "      <td>a147a39f-ee2e-408e-ae07-874e93f0d225</td>\n",
       "      <td>kimberly d</td>\n",
       "      <td>I like that it followed the animation movie pr...</td>\n",
       "      <td>5.0</td>\n",
       "      <td>2019-08-30T02:17:18.670Z</td>\n",
       "    </tr>\n",
       "    <tr>\n",
       "      <th>2</th>\n",
       "      <td>978119067</td>\n",
       "      <td>Doug G</td>\n",
       "      <td>Great movie..feeling the nostalgia for sure..l...</td>\n",
       "      <td>4.5</td>\n",
       "      <td>2019-08-30T01:53:24.594Z</td>\n",
       "    </tr>\n",
       "    <tr>\n",
       "      <th>3</th>\n",
       "      <td>978217415</td>\n",
       "      <td>Diogo O</td>\n",
       "      <td>Infelizmente no filme acaba com o brilho da in...</td>\n",
       "      <td>2.0</td>\n",
       "      <td>2019-08-30T01:44:34.141Z</td>\n",
       "    </tr>\n",
       "    <tr>\n",
       "      <th>4</th>\n",
       "      <td>3EE3713A-E261-4562-9A2C-C6316FF768F5</td>\n",
       "      <td>V0hayga</td>\n",
       "      <td>great for those who have never seek the origin...</td>\n",
       "      <td>3.0</td>\n",
       "      <td>2019-08-30T01:37:31.448Z</td>\n",
       "    </tr>\n",
       "    <tr>\n",
       "      <th>5</th>\n",
       "      <td>6ba6303a-0f50-406a-9384-44c875a66be3</td>\n",
       "      <td>Ashley B</td>\n",
       "      <td>I wasn't sure if this would be that great afte...</td>\n",
       "      <td>5.0</td>\n",
       "      <td>2019-08-30T01:08:33.118Z</td>\n",
       "    </tr>\n",
       "    <tr>\n",
       "      <th>6</th>\n",
       "      <td>978208872</td>\n",
       "      <td>Edson G</td>\n",
       "      <td>Just watch the original. This movie just doesn...</td>\n",
       "      <td>2.0</td>\n",
       "      <td>2019-08-30T00:22:19.448Z</td>\n",
       "    </tr>\n",
       "    <tr>\n",
       "      <th>7</th>\n",
       "      <td>aa7fdcc2-db5b-455a-8ee8-80f7d80ffcd9</td>\n",
       "      <td>Barbara S</td>\n",
       "      <td>very well done and entertaining\\nreally enjoye...</td>\n",
       "      <td>4.0</td>\n",
       "      <td>2019-08-29T23:58:21.800Z</td>\n",
       "    </tr>\n",
       "    <tr>\n",
       "      <th>8</th>\n",
       "      <td>d7077647-7e81-4f6a-bf6c-c9617d60dedb</td>\n",
       "      <td>DJO</td>\n",
       "      <td>The animation was spectacular</td>\n",
       "      <td>4.0</td>\n",
       "      <td>2019-08-29T23:22:36.548Z</td>\n",
       "    </tr>\n",
       "    <tr>\n",
       "      <th>9</th>\n",
       "      <td>d47c39d5-19ce-40a8-96cc-761b45fa3120</td>\n",
       "      <td>PATRICIA J</td>\n",
       "      <td>I liked everything! Super great movie!</td>\n",
       "      <td>5.0</td>\n",
       "      <td>2019-08-29T23:19:33.081Z</td>\n",
       "    </tr>\n",
       "  </tbody>\n",
       "</table>\n",
       "</div>"
      ],
      "text/plain": [
       "                                 UsedID    UserName  \\\n",
       "0  4ac6d27e-eee2-45ee-b7d1-8beda3635e9c    Kathleen   \n",
       "1  a147a39f-ee2e-408e-ae07-874e93f0d225  kimberly d   \n",
       "2                             978119067      Doug G   \n",
       "3                             978217415     Diogo O   \n",
       "4  3EE3713A-E261-4562-9A2C-C6316FF768F5     V0hayga   \n",
       "5  6ba6303a-0f50-406a-9384-44c875a66be3    Ashley B   \n",
       "6                             978208872     Edson G   \n",
       "7  aa7fdcc2-db5b-455a-8ee8-80f7d80ffcd9   Barbara S   \n",
       "8  d7077647-7e81-4f6a-bf6c-c9617d60dedb         DJO   \n",
       "9  d47c39d5-19ce-40a8-96cc-761b45fa3120  PATRICIA J   \n",
       "\n",
       "                                              Review  Rating  \\\n",
       "0  Good for all ages.  Good lessons, good story, ...     5.0   \n",
       "1  I like that it followed the animation movie pr...     5.0   \n",
       "2  Great movie..feeling the nostalgia for sure..l...     4.5   \n",
       "3  Infelizmente no filme acaba com o brilho da in...     2.0   \n",
       "4  great for those who have never seek the origin...     3.0   \n",
       "5  I wasn't sure if this would be that great afte...     5.0   \n",
       "6  Just watch the original. This movie just doesn...     2.0   \n",
       "7  very well done and entertaining\\nreally enjoye...     4.0   \n",
       "8                      The animation was spectacular     4.0   \n",
       "9             I liked everything! Super great movie!     5.0   \n",
       "\n",
       "                       Date  \n",
       "0  2019-08-30T03:13:36.138Z  \n",
       "1  2019-08-30T02:17:18.670Z  \n",
       "2  2019-08-30T01:53:24.594Z  \n",
       "3  2019-08-30T01:44:34.141Z  \n",
       "4  2019-08-30T01:37:31.448Z  \n",
       "5  2019-08-30T01:08:33.118Z  \n",
       "6  2019-08-30T00:22:19.448Z  \n",
       "7  2019-08-29T23:58:21.800Z  \n",
       "8  2019-08-29T23:22:36.548Z  \n",
       "9  2019-08-29T23:19:33.081Z  "
      ]
     },
     "execution_count": 14,
     "metadata": {},
     "output_type": "execute_result"
    }
   ],
   "source": [
    "moviewreview_df"
   ]
  },
  {
   "cell_type": "markdown",
   "metadata": {},
   "source": [
    "## Getting other page reviews"
   ]
  },
  {
   "cell_type": "markdown",
   "metadata": {},
   "source": [
    "#### Used for extraction of reviews"
   ]
  },
  {
   "cell_type": "code",
   "execution_count": null,
   "metadata": {},
   "outputs": [],
   "source": [
    "#import time\n",
    "# import requests\n",
    "\n",
    "\n",
    "    \n",
    "# headers = {\n",
    "#     'Referer': 'https://www.rottentomatoes.com/m/notebook/reviews?type=user',\n",
    "#     'User-Agent': 'Mozilla/5.0 (Windows NT 10.0; Win64; x64) AppleWebKit/537.36 (KHTML, like Gecko) Chrome/74.0.3729.108 Safari/537.36',\n",
    "#     'X-Requested-With': 'XMLHttpRequest',\n",
    "# }\n",
    "\n",
    "# url = 'https://www.rottentomatoes.com/napi/movie/00d1dd5b-5a41-3248-9080-3ef553dd9015/reviews/user'\n",
    "\n",
    "# payload = {\n",
    "#     'direction': 'next',\n",
    "#     'endCursor': '',\n",
    "#     'startCursor': '',\n",
    "# }\n",
    "# data = {'UsedID':[], 'UserName':[], 'Review':[], 'Rating':[], 'Date':[]}\n",
    "# sess = requests.Session()\n",
    "\n",
    "# while True:\n",
    "#     r = sess.get(url, headers=headers, params=payload)\n",
    "#     datar = r.json()\n",
    "\n",
    "\n",
    "#     payload['endCursor'] = datar['pageInfo']['endCursor']\n",
    "#     payload['startCursor'] = datar['pageInfo']['startCursor']\n",
    "    \n",
    "#     if not datar['pageInfo']['hasNextPage']:\n",
    "#         break\n",
    "\n",
    "#     for x in datar['reviews']: \n",
    "#         data['UsedID'].append(x['user']['userId'])\n",
    "#         data['UserName'].append(x['user']['displayName'])\n",
    "#         data['Review'].append(x['review'])\n",
    "#         data['Rating'].append(x['score'])\n",
    "#         data['Date'].append(x['createDate'])\n",
    "#         df = pd.DataFrame(data)\n",
    "        \n",
    "#     if len(df.index)>=3000:\n",
    "#         break\n",
    "# time.sleep(5)\n",
    "# df.head(2)    \n",
    "   "
   ]
  },
  {
   "cell_type": "code",
   "execution_count": null,
   "metadata": {},
   "outputs": [],
   "source": [
    "df.to_csv('phddata.csv')"
   ]
  },
  {
   "cell_type": "markdown",
   "metadata": {},
   "source": [
    "__Data is gathered as per requirement and export to excel sheet for further analysis__\n",
    " "
   ]
  },
  {
   "cell_type": "code",
   "execution_count": null,
   "metadata": {},
   "outputs": [],
   "source": []
  }
 ],
 "metadata": {
  "kernelspec": {
   "display_name": "Python 3",
   "language": "python",
   "name": "python3"
  },
  "language_info": {
   "codemirror_mode": {
    "name": "ipython",
    "version": 3
   },
   "file_extension": ".py",
   "mimetype": "text/x-python",
   "name": "python",
   "nbconvert_exporter": "python",
   "pygments_lexer": "ipython3",
   "version": "3.7.3"
  }
 },
 "nbformat": 4,
 "nbformat_minor": 2
}
